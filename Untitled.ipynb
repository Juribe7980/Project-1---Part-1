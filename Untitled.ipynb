{
  "nbformat": 4,
  "nbformat_minor": 0,
  "metadata": {
    "colab": {
      "provenance": [],
      "authorship_tag": "ABX9TyPEDKxBZPDbcxp7RntQslWR",
      "include_colab_link": true
    },
    "kernelspec": {
      "name": "python3",
      "display_name": "Python 3"
    },
    "language_info": {
      "name": "python"
    }
  },
  "cells": [
    {
      "cell_type": "markdown",
      "metadata": {
        "id": "view-in-github",
        "colab_type": "text"
      },
      "source": [
        "<a href=\"https://colab.research.google.com/github/Juribe7980/Project-1-Part-1/blob/main/Untitled.ipynb\" target=\"_parent\"><img src=\"https://colab.research.google.com/assets/colab-badge.svg\" alt=\"Open In Colab\"/></a>"
      ]
    },
    {
      "cell_type": "code",
      "execution_count": 12,
      "metadata": {
        "id": "BMKMDKLlD16o"
      },
      "outputs": [],
      "source": []
    },
    {
      "cell_type": "markdown",
      "source": [
        "# Data Science Sales Insight"
      ],
      "metadata": {
        "id": "jByw6juAD9Ox"
      }
    },
    {
      "cell_type": "markdown",
      "source": [
        "Jessica Uribe"
      ],
      "metadata": {
        "id": "nn6mbNBdE4dS"
      }
    },
    {
      "cell_type": "markdown",
      "source": [
        "## Loading Data"
      ],
      "metadata": {
        "id": "56IzMnEgFWhq"
      }
    },
    {
      "cell_type": "code",
      "source": [
        "sales = pd.read_csv('/content/drive/MyDrive/Coding Dojo/sales_predictions.csv')\n",
        "sales.head()\n"
      ],
      "metadata": {
        "id": "VF_CHZSCmwxw"
      },
      "execution_count": null,
      "outputs": []
    },
    {
      "cell_type": "markdown",
      "source": [
        "## Data Cleaning"
      ],
      "metadata": {
        "id": "ir2u6pIcFZ7y"
      }
    },
    {
      "cell_type": "code",
      "source": [
        "sales.info()"
      ],
      "metadata": {
        "id": "nipvUtq3nv6Q"
      },
      "execution_count": null,
      "outputs": []
    },
    {
      "cell_type": "code",
      "source": [
        "sales.dtypes"
      ],
      "metadata": {
        "id": "xcnbrcvpnhRY"
      },
      "execution_count": null,
      "outputs": []
    },
    {
      "cell_type": "code",
      "source": [
        "sales = sales.copy()\n",
        "sales.info()"
      ],
      "metadata": {
        "id": "EJb_mtl3n2WQ"
      },
      "execution_count": null,
      "outputs": []
    },
    {
      "cell_type": "code",
      "source": [
        "sales.drop(columns = 'Unnamed = 0', axis = 1, inplace = True)\n",
        "sales.info()"
      ],
      "metadata": {
        "id": "zPwHaUnvn_AH"
      },
      "execution_count": null,
      "outputs": []
    },
    {
      "cell_type": "code",
      "source": [
        "sales.duplicated().sum()"
      ],
      "metadata": {
        "id": "3-By33ITnsHI"
      },
      "execution_count": null,
      "outputs": []
    },
    {
      "cell_type": "markdown",
      "source": [
        "## Exploratory Visuals"
      ],
      "metadata": {
        "id": "gBbz8hoBF1lL"
      }
    },
    {
      "cell_type": "code",
      "source": [],
      "metadata": {
        "id": "ITHXF2QAoFo8"
      },
      "execution_count": null,
      "outputs": []
    },
    {
      "cell_type": "markdown",
      "source": [
        "## Explanatory Visuals"
      ],
      "metadata": {
        "id": "Imc1qmOGF4hy"
      }
    },
    {
      "cell_type": "code",
      "source": [],
      "metadata": {
        "id": "00PVZkIVoGyT"
      },
      "execution_count": null,
      "outputs": []
    }
  ]
}