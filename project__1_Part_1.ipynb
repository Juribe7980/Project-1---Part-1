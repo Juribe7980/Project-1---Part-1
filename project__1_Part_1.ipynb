{
  "nbformat": 4,
  "nbformat_minor": 0,
  "metadata": {
    "colab": {
      "provenance": [],
      "authorship_tag": "ABX9TyPijjsxMDixwleK4UT6jILU",
      "include_colab_link": true
    },
    "kernelspec": {
      "name": "python3",
      "display_name": "Python 3"
    },
    "language_info": {
      "name": "python"
    }
  },
  "cells": [
    {
      "cell_type": "markdown",
      "metadata": {
        "id": "view-in-github",
        "colab_type": "text"
      },
      "source": [
        "<a href=\"https://colab.research.google.com/github/Juribe7980/Project-1-Part-1/blob/main/project__1_Part_1.ipynb\" target=\"_parent\"><img src=\"https://colab.research.google.com/assets/colab-badge.svg\" alt=\"Open In Colab\"/></a>"
      ]
    },
    {
      "cell_type": "code",
      "execution_count": 5,
      "metadata": {
        "id": "TwKrSQ-8neKx",
        "colab": {
          "base_uri": "https://localhost:8080/",
          "height": 130
        },
        "outputId": "39d8fddb-5387-47cb-e095-244099d84c6d"
      },
      "outputs": [
        {
          "output_type": "error",
          "ename": "SyntaxError",
          "evalue": "ignored",
          "traceback": [
            "\u001b[0;36m  File \u001b[0;32m\"<ipython-input-5-7714c03f1e61>\"\u001b[0;36m, line \u001b[0;32m2\u001b[0m\n\u001b[0;31m    Jessica Uribe)\u001b[0m\n\u001b[0m            ^\u001b[0m\n\u001b[0;31mSyntaxError\u001b[0m\u001b[0;31m:\u001b[0m invalid syntax\n"
          ]
        }
      ],
      "source": [
        "# (*Data Science Salary Insight\n",
        "Jessica Uribe)\n",
        "\n",
        "\"## Loading Data\"\n",
        "In[]\n",
        "\"## Data Cleaning\"\n",
        "In[]\n",
        "\"## Exploratory Visuals\"\n",
        "In[]]\n",
        "\"## Explanatory Visuals\"\n",
        "in[]\n"
      ]
    }
  ]
}