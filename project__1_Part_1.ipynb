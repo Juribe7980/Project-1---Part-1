{
  "nbformat": 4,
  "nbformat_minor": 0,
  "metadata": {
    "colab": {
      "provenance": [],
      "authorship_tag": "ABX9TyNIilpPXG6la+EpBfOOMp/C",
      "include_colab_link": true
    },
    "kernelspec": {
      "name": "python3",
      "display_name": "Python 3"
    },
    "language_info": {
      "name": "python"
    }
  },
  "cells": [
    {
      "cell_type": "markdown",
      "metadata": {
        "id": "view-in-github",
        "colab_type": "text"
      },
      "source": [
        "<a href=\"https://colab.research.google.com/github/Juribe7980/Project-1-Part-1/blob/main/project__1_Part_1.ipynb\" target=\"_parent\"><img src=\"https://colab.research.google.com/assets/colab-badge.svg\" alt=\"Open In Colab\"/></a>"
      ]
    },
    {
      "cell_type": "code",
      "execution_count": null,
      "metadata": {
        "id": "TwKrSQ-8neKx"
      },
      "outputs": [],
      "source": [
        "# (*Data Science Salary Insight)\n",
        "\n",
        "  \"## Loading Data\"\n",
        "  \n",
        "  \"## Data Cleaning\"\n",
        "\n",
        "  \"## Exploratory Visuals\"\n",
        "\n",
        "  \"## Explanatory Visuals\"\n",
        "\n"
      ]
    }
  ]
}